{
 "cells": [
  {
   "cell_type": "code",
   "execution_count": 1,
   "id": "d3a607b1-fa94-4e27-ad3c-ac9e90375bb1",
   "metadata": {},
   "outputs": [
    {
     "name": "stdout",
     "output_type": "stream",
     "text": [
      "1\n",
      "2\n",
      "3\n",
      "4\n",
      "5\n",
      "6\n",
      "7\n",
      "8\n",
      "9\n",
      "10\n"
     ]
    }
   ],
   "source": [
    "# Write a Python program to print the numbers from 1 to 10 using a `for` loop.\n",
    "for i in range(1,11):\n",
    "    print(i)"
   ]
  },
  {
   "cell_type": "code",
   "execution_count": 2,
   "id": "ac499c9d-c390-440b-8fa9-2c550b041300",
   "metadata": {},
   "outputs": [
    {
     "name": "stdout",
     "output_type": "stream",
     "text": [
      "105\n"
     ]
    }
   ],
   "source": [
    "# 2. Create a program that calculates the sum of all numbers in a list using a `for` loop.\n",
    "sum = 0\n",
    "for i in range(15):\n",
    "    sum+=i\n",
    "print(sum)"
   ]
  },
  {
   "cell_type": "code",
   "execution_count": 3,
   "id": "090e6cf6-9a51-4803-a99d-596d394759ef",
   "metadata": {},
   "outputs": [
    {
     "name": "stdout",
     "output_type": "stream",
     "text": [
      "gnihtyreve"
     ]
    }
   ],
   "source": [
    "# Write a program to print the characters of a string in reverse order using a `for` loop.\n",
    "s = \"everything\"\n",
    "for i in s[::-1]:\n",
    "    print(i,end=\"\")"
   ]
  },
  {
   "cell_type": "code",
   "execution_count": 4,
   "id": "6606471a-24bf-428d-9d48-b94cb38c2ded",
   "metadata": {},
   "outputs": [
    {
     "data": {
      "text/plain": [
       "24"
      ]
     },
     "execution_count": 4,
     "metadata": {},
     "output_type": "execute_result"
    }
   ],
   "source": [
    "# 4. Develop a program that finds the factorial of a given number using a `for` loop.\n",
    "n = 4 #//which number we want to fins factorial\n",
    "fact = 1 #this variable is used to store fsctorial of number\n",
    "for i in range(1,n+1): #This for loop is start from 1 to n+1 (because range take n-1 value or we can say exclude n)\n",
    "    fact = fact * i #in this we calculate factorial\n",
    "fact ##now we  print factorial\n",
    "    \n",
    "    "
   ]
  },
  {
   "cell_type": "code",
   "execution_count": 5,
   "id": "ddffa48a-1db4-49aa-93ec-063dc1a7d3b1",
   "metadata": {},
   "outputs": [
    {
     "name": "stdin",
     "output_type": "stream",
     "text": [
      "Enter a number for table: 1\n"
     ]
    },
    {
     "name": "stdout",
     "output_type": "stream",
     "text": [
      "1 X 1 = 1\n",
      "1 X 2 = 2\n",
      "1 X 3 = 3\n",
      "1 X 4 = 4\n",
      "1 X 5 = 5\n",
      "1 X 6 = 6\n",
      "1 X 7 = 7\n",
      "1 X 8 = 8\n",
      "1 X 9 = 9\n",
      "1 X 10 = 10\n"
     ]
    }
   ],
   "source": [
    "# Create a program to print the multiplication table of a given number using a `for` loop.\n",
    "n = int(input(\"Enter a number for table:\")) ##we take a number from user for table\n",
    "for i in range(1,11): ##here we use for loop from 1 to 10\n",
    "    print(f\"{n} X {i} = {n*i}\") ##here we print table with calculation"
   ]
  },
  {
   "cell_type": "code",
   "execution_count": 6,
   "id": "b691abc1-0070-4fda-b0ca-992163998c3b",
   "metadata": {},
   "outputs": [
    {
     "name": "stdout",
     "output_type": "stream",
     "text": [
      "[1, 2, 3, 4, 5, 6, 7, 8, 9, 10, 11, 12, 13, 14, 15, 16, 17, 18, 19, 20, 21, 22, 23, 24, 25, 26, 27, 28, 29, 30, 31, 32, 33, 34, 35, 36, 37, 38, 39, 40, 41, 42, 43, 44, 45, 46, 47, 48, 49, 50, 51, 52, 53, 54, 55, 56, 57, 58, 59, 60, 61, 62, 63, 64, 65, 66, 67, 68, 69, 70, 71, 72, 73, 74, 75, 76, 77, 78, 79, 80, 81, 82, 83, 84, 85, 86, 87, 88, 89, 90, 91, 92, 93, 94, 95, 96, 97, 98, 99, 100]"
     ]
    }
   ],
   "source": [
    "# 6. Write a program that counts the number of even and odd numbers in a list using a `for` loop.\n",
    "l1 = list(range(1,101)) #in this step we create a list using range function\n",
    "print(l1,end=\"\")"
   ]
  },
  {
   "cell_type": "code",
   "execution_count": 7,
   "id": "48db2643-2b37-41f2-866b-2c28dd58e053",
   "metadata": {},
   "outputs": [
    {
     "name": "stdout",
     "output_type": "stream",
     "text": [
      "odd number count 50\n",
      "Even number count 50\n"
     ]
    }
   ],
   "source": [
    "count = 0 #This variable is use to store count\n",
    "for i in l1: #in this line we use for loop for triverse list l1\n",
    "    if(i%2==0): ## in this line we use a condition for check this value is even or not \n",
    "        count+=1 ##is upper condition is true then increase count by 1\n",
    "print(\"odd number count\",len(l1)-count) ## in this line we print odd number for ..previously we calculate even number so subtract this count by total value\n",
    "print(\"Even number count\",count) ## in this line we print even number count"
   ]
  },
  {
   "cell_type": "code",
   "execution_count": 8,
   "id": "41754329-ed7f-42e2-a067-aa9e7bf2ed4e",
   "metadata": {},
   "outputs": [
    {
     "name": "stdout",
     "output_type": "stream",
     "text": [
      "1 is square of 1\n",
      "4 is square of 2\n",
      "9 is square of 3\n",
      "16 is square of 4\n",
      "25 is square of 5\n"
     ]
    }
   ],
   "source": [
    "# 7. Develop a program that prints the squares of numbers from 1 to 5 using a `for` loop.\n",
    "for i in range(1,6): ##for loop for iterate 1 to 5 \n",
    "    print(i**2,\"is square of\",i) ##print square 1 to 5 (** is use for power in python)"
   ]
  },
  {
   "cell_type": "code",
   "execution_count": 9,
   "id": "72d1c76b-b609-4f14-a7ae-8906dd30acdb",
   "metadata": {},
   "outputs": [
    {
     "data": {
      "text/plain": [
       "18"
      ]
     },
     "execution_count": 9,
     "metadata": {},
     "output_type": "execute_result"
    }
   ],
   "source": [
    "# Create a program to find the length of a string without using the `len()` function.\n",
    "count = 0; ##this variable is use to count of character in the string\n",
    "s = \"rahul kumar Bhagat\" \n",
    "for i in s: \n",
    "    count+=1 ##count increase by 1 in every iteration\n",
    "count ##print count "
   ]
  },
  {
   "cell_type": "code",
   "execution_count": 10,
   "id": "9f87a1d2-9cb1-46e6-bf46-97f4182f56f0",
   "metadata": {},
   "outputs": [
    {
     "name": "stdin",
     "output_type": "stream",
     "text": [
      "Enter a number for average calculation: 15\n"
     ]
    },
    {
     "name": "stdout",
     "output_type": "stream",
     "text": [
      "8.0\n"
     ]
    }
   ],
   "source": [
    "# Write a program that calculates the average of a list of numbers using a `for` loop.\n",
    "n = int(input(\"Enter a number for average calculation:\")) ##take a value from user\n",
    "sum = 0 ##initialize sum by 0\n",
    "for i in range(n+1): \n",
    "    sum+=i ##sum from 0 to this variable \n",
    "print(sum/n) ##calculate average sum(all number from 1 to n)/n\n"
   ]
  },
  {
   "cell_type": "code",
   "execution_count": null,
   "id": "568f3979-22e2-467a-874a-cb603bc2d3b5",
   "metadata": {},
   "outputs": [],
   "source": [
    "# 10. Develop a program that prints the first `n` Fibonacci numbers using a `for` loop.\n",
    "# fibonacci series is 0 1 1 2 3 5 8 (means sum of two previous one) \n",
    "n = int(input(\"Enter a number for fibonacci:\")) ##take input from user\n",
    "a = 0 #two values initialize by 0 and 1\n",
    "b = 1\n",
    "sum = 0\n",
    "for i in range(n):\n",
    "    sum = a + b # here we previous two value\n",
    "    a = b ## then value of b is transfer to a and value of b is initialize by sum value \n",
    "    b = sum\n",
    "sum\n",
    "    "
   ]
  },
  {
   "cell_type": "code",
   "execution_count": 11,
   "id": "576d49c3-6ab7-403a-9521-76167d0838d5",
   "metadata": {},
   "outputs": [],
   "source": [
    "# Intermediate Level:"
   ]
  },
  {
   "cell_type": "code",
   "execution_count": 12,
   "id": "2f5c7def-a64a-45b2-b80c-7bbffd143586",
   "metadata": {},
   "outputs": [
    {
     "name": "stdout",
     "output_type": "stream",
     "text": [
      "There is a duplicate\n"
     ]
    }
   ],
   "source": [
    "##11. Write a program to check if a given list contains any duplicates using a `for` loop.\n",
    "# l1 = [\"ram\",\"sita\",\"gita\"] \n",
    "l1 = [1,2,3,4,5,1] #we are take two list a list for string and one for integer\n",
    "count=0 #count initialize by 0\n",
    "for i in range(len(l1)):\n",
    "    for j in range(i+1,len(l1)): ## i am using two for loop first start from  to len(l1) and second start from i+1 to len of the list\n",
    "        if(l1[i]==l1[j]): #f list a element is equal to any other element then increase count by 1\n",
    "            count+=1\n",
    "if(count>0): #now check count is greater then 0 then we can say there is some duplicate element\n",
    "    print(\"There is a duplicate\")\n",
    "else:\n",
    "    print(\"There is no any duplicate value\")\n",
    "            "
   ]
  },
  {
   "cell_type": "code",
   "execution_count": 13,
   "id": "b1ca17e1-f14a-4809-b016-9b9834d7e2cc",
   "metadata": {},
   "outputs": [
    {
     "name": "stdin",
     "output_type": "stream",
     "text": [
      "Enter your range: 15\n"
     ]
    },
    {
     "name": "stdout",
     "output_type": "stream",
     "text": [
      "2\n",
      "3\n",
      "5\n",
      "7\n",
      "11\n",
      "13\n"
     ]
    }
   ],
   "source": [
    "## 12. Create a program that prints the prime numbers in a given range using a `for` loop.\n",
    "n = int(input(\"Enter your range:\")) #take a input from user\n",
    "for i in range(2,n): ##this loop is run from 2 to user input \n",
    "    flag = False #now we assign a flag variable to false \n",
    "    for j in range(2,i): #this loop is run from 2 to i\n",
    "        if((i%j)==0): #this if is used for chek this given number is divide by any number or not is some number is divide by anyother number then initialize flag\n",
    "            flag = True\n",
    "    if(flag): #if flag is true then it is not a prime number so simply pass this arguement\n",
    "        pass\n",
    "    else: #else this number is prime and print this\n",
    "        print(i)\n",
    "        "
   ]
  },
  {
   "cell_type": "raw",
   "id": "81e73b08-c69f-4038-9963-b073e207dfe4",
   "metadata": {},
   "source": []
  },
  {
   "cell_type": "code",
   "execution_count": 14,
   "id": "ff6007e2-9237-4a97-99e2-7ea518740c45",
   "metadata": {},
   "outputs": [
    {
     "data": {
      "text/plain": [
       "9"
      ]
     },
     "execution_count": 14,
     "metadata": {},
     "output_type": "execute_result"
    }
   ],
   "source": [
    "# Develop a program that counts the number of vowels in a string using a `for` loop.\n",
    "s = \"ram is a very cleaver person\" #this is a sample input\n",
    "li = [] #here i create a empty list\n",
    "count=0 #here create a count variable and initialize by 0\n",
    "li.extend(\"aeiou\") #this line is used for a string is convert into a list\n",
    "for i in s: #this for loop is used for triversing character from this string  \n",
    "    if i in li: #if this triversed  character is available in this list l1 then simply increase count by 1 \n",
    "        count+=1\n",
    "        # print(i)\n",
    "count"
   ]
  },
  {
   "cell_type": "code",
   "execution_count": 15,
   "id": "86a6aceb-2c1e-4413-a6e9-41d36a44b5d2",
   "metadata": {},
   "outputs": [
    {
     "name": "stdout",
     "output_type": "stream",
     "text": [
      "9\n"
     ]
    }
   ],
   "source": [
    "# 14. Write a program to find the maximum element in a 2D list using a nested `for` loop.\n",
    "\n",
    "matrix = [\n",
    "    [1, 2, 3],\n",
    "    [4, 5, 6],\n",
    "    [7, 8, 9]\n",
    "]\n",
    "#in this upper line take a matrix as an input\n",
    "\n",
    "maximum = matrix[0][0] #this line is used initialize maximum variablr as 0 index value\n",
    "for row in matrix: #this for loop is used for take matrix\n",
    "    for ele in row: #this loop is used for take a element from this matrix\n",
    "        if(ele>maximum): #if this element is greater then maximum then assign this element to this maximum variable\n",
    "            maximum = ele\n",
    "\n",
    "print(maximum) #now print this maximum element\n",
    "\n",
    "\n"
   ]
  },
  {
   "cell_type": "code",
   "execution_count": 16,
   "id": "76103aff-b6dc-4521-98bc-28f73ece77e4",
   "metadata": {},
   "outputs": [
    {
     "name": "stdout",
     "output_type": "stream",
     "text": [
      "['r', 'a', 'm', 'i', 's', 'c', 'l', 'e', 'v', 'e', 'r', 'a', 'n', 'd', 'g', 'o', 'o', 'd', 'p', 'e', 'r', 's', 'o', 'n']\n"
     ]
    },
    {
     "name": "stdin",
     "output_type": "stream",
     "text": [
      "Enter your specific element which you want to remove from the list 16\n"
     ]
    },
    {
     "name": "stdout",
     "output_type": "stream",
     "text": [
      "['r', 'a', 'm', 'i', 's', 'c', 'l', 'e', 'v', 'e', 'r', 'a', 'n', 'd', 'g', 'o', 'o', 'd', 'p', 'e', 'r', 's', 'o', 'n']\n"
     ]
    }
   ],
   "source": [
    "# Create a program that removes all occurrences of a specific element from a list using a `for` loop.\n",
    "l1 = []\n",
    "l1.extend(\"ramiscleverandgoodperson\") #in this line i extend some string into a list using extend  function \n",
    "print(l1)\n",
    "specific = input(\"Enter your specific element which you want to remove from the list\") #now take input from user some specific element which user wants to remove\n",
    "for i in l1: #this for loop trivers all element one by one\n",
    "    if(specific==i): #in this line if this specific element is equal to this triversed element then \n",
    "        l1.remove(i) #remove this element from this list\n",
    "print(l1)"
   ]
  },
  {
   "cell_type": "code",
   "execution_count": 17,
   "id": "27ca17de-38e6-439b-a047-436613dc80e2",
   "metadata": {},
   "outputs": [
    {
     "name": "stdout",
     "output_type": "stream",
     "text": [
      "1 X 1 = 1\n",
      "1 X 2 = 2\n",
      "1 X 3 = 3\n",
      "1 X 4 = 4\n",
      "1 X 5 = 5\n",
      "1 X 6 = 6\n",
      "1 X 7 = 7\n",
      "1 X 8 = 8\n",
      "1 X 9 = 9\n",
      "1 X 10 = 10\n",
      "\n",
      "\n",
      "2 X 1 = 2\n",
      "2 X 2 = 4\n",
      "2 X 3 = 6\n",
      "2 X 4 = 8\n",
      "2 X 5 = 10\n",
      "2 X 6 = 12\n",
      "2 X 7 = 14\n",
      "2 X 8 = 16\n",
      "2 X 9 = 18\n",
      "2 X 10 = 20\n",
      "\n",
      "\n",
      "3 X 1 = 3\n",
      "3 X 2 = 6\n",
      "3 X 3 = 9\n",
      "3 X 4 = 12\n",
      "3 X 5 = 15\n",
      "3 X 6 = 18\n",
      "3 X 7 = 21\n",
      "3 X 8 = 24\n",
      "3 X 9 = 27\n",
      "3 X 10 = 30\n",
      "\n",
      "\n",
      "4 X 1 = 4\n",
      "4 X 2 = 8\n",
      "4 X 3 = 12\n",
      "4 X 4 = 16\n",
      "4 X 5 = 20\n",
      "4 X 6 = 24\n",
      "4 X 7 = 28\n",
      "4 X 8 = 32\n",
      "4 X 9 = 36\n",
      "4 X 10 = 40\n",
      "\n",
      "\n",
      "5 X 1 = 5\n",
      "5 X 2 = 10\n",
      "5 X 3 = 15\n",
      "5 X 4 = 20\n",
      "5 X 5 = 25\n",
      "5 X 6 = 30\n",
      "5 X 7 = 35\n",
      "5 X 8 = 40\n",
      "5 X 9 = 45\n",
      "5 X 10 = 50\n",
      "\n",
      "\n"
     ]
    }
   ],
   "source": [
    "# Develop a program that generates a multiplication table for numbers from 1 to 5 using a nested `for` loop.\n",
    "for k in range(1,6):\n",
    "    for i in range(1,11): ##here we use for loop from 1 to 10\n",
    "        print(f\"{k} X {i} = {k*i}\") ##here we print table with calculation\n",
    "    print(\"\\n\")\n",
    "\n",
    "    "
   ]
  },
  {
   "cell_type": "code",
   "execution_count": 18,
   "id": "0f8ed9a3-a6a5-470a-8264-e8029e86f383",
   "metadata": {},
   "outputs": [
    {
     "name": "stdout",
     "output_type": "stream",
     "text": [
      "-273.33333333333337\n",
      "-169.62777777777777\n",
      "-272.77777777777777\n",
      "-169.32222222222222\n",
      "-272.22222222222223\n",
      "-169.01111111111112\n",
      "-271.6666666666667\n"
     ]
    }
   ],
   "source": [
    "# Write a program that converts a list of Fahrenheit temperatures to Celsius using a `for` loop.\n",
    "l1 = [-460,\n",
    "-273.33,\n",
    "-459,\n",
    "-272.78,\n",
    "-458,\n",
    "-272.22,\n",
    "-457]\n",
    "for i in l1:\n",
    "    cel = 5/9*(i-32)\n",
    "    print(cel)"
   ]
  },
  {
   "cell_type": "code",
   "execution_count": 19,
   "id": "114d7862-ae25-44e0-8e20-888df13c3225",
   "metadata": {},
   "outputs": [
    {
     "name": "stdout",
     "output_type": "stream",
     "text": [
      "1\n",
      "2\n",
      "5\n",
      "6\n",
      "7\n",
      "9\n"
     ]
    }
   ],
   "source": [
    "# 18. Create a program to print the common elements from two lists using a `for` loop.\n",
    "l1=[1,2,3,4,5,6,7,8,9]\n",
    "l2 =[1,2,6,5,7,9]\n",
    "for i in l1:\n",
    "    if i in l2:\n",
    "        print(i)"
   ]
  },
  {
   "cell_type": "code",
   "execution_count": 20,
   "id": "3dec8a40-a106-4057-8749-108d9a1dee43",
   "metadata": {},
   "outputs": [
    {
     "name": "stdout",
     "output_type": "stream",
     "text": [
      "* \n",
      "* * \n",
      "* * * \n",
      "* * * * \n",
      "* * * * * \n",
      "* * * * * * \n"
     ]
    }
   ],
   "source": [
    "# Develop a program that prints the pattern of right-angled triangles using a `for` loop. Use ‘*’ to draw the\n",
    "# pattern\n",
    "\n",
    "for i in range(1,7):\n",
    "    for j in range(i):\n",
    "        print(\"*\",end=\" \")\n",
    "    print()\n",
    "    "
   ]
  },
  {
   "cell_type": "markdown",
   "id": "71122e79-5550-4562-bc19-78e6394157b0",
   "metadata": {},
   "source": [
    "###### Write a program to find the greatest common divisor (GCD) of two numbers using a `for` loop.\n",
    "def gcd(a,b):\n",
    "    while(b):\n",
    "        a,b = b,a%b\n",
    "    return a\n",
    "\n",
    "n1 = int(input(\"Enter your 1st number:\"))\n",
    "n2 = int(input(\"Enter your 2nd number:\"))\n",
    "result = gcd(n1,n2)\n",
    "print(\"your gcd is\",result)"
   ]
  },
  {
   "cell_type": "code",
   "execution_count": 22,
   "id": "5999fb3d-aa34-49ad-9f7a-fe9c4091b42b",
   "metadata": {},
   "outputs": [],
   "source": [
    "###Advanced Level:"
   ]
  },
  {
   "cell_type": "code",
   "execution_count": 23,
   "id": "c8b301c2-8660-402a-9cc0-88369b16c4b3",
   "metadata": {},
   "outputs": [],
   "source": [
    "# 21. Create a program that calculates the sum of the digits of numbers in a list using a list comprehension.\n",
    "# 22. Write a program to find the prime factors of a given number using a `for` loop and list comprehension.\n",
    "# 23. Develop a program that extracts unique elements from a list and stores them in a new list using a list\n",
    "# comprehension.\n",
    "# 24. Create a program that generates a list of all palindromic numbers up to a specified limit using a list\n",
    "# comprehension.\n",
    "# 25. Write a program to flatten a nested list using list comprehension.\n",
    "# 26. Develop a program that computes the sum of even and odd numbers in a list separately using list\n",
    "# comprehension.\n",
    "# 27. Create a program that generates a list of squares of odd numbers between 1 and 10 using list\n",
    "# comprehension.\n",
    "# 28. Write a program that combines two lists into a dictionary using list comprehension.\n",
    "# 29. Develop a program that extracts the vowels from a string and stores them in a list using list comprehension.\n",
    "# 30. Create a program that removes all non-numeric characters from a list of strings using list comprehension."
   ]
  },
  {
   "cell_type": "code",
   "execution_count": 1,
   "id": "acc23e18-2fed-443c-aa00-54ff7520e846",
   "metadata": {},
   "outputs": [
    {
     "data": {
      "text/plain": [
       "239"
      ]
     },
     "execution_count": 1,
     "metadata": {},
     "output_type": "execute_result"
    }
   ],
   "source": []
  },
  {
   "cell_type": "code",
   "execution_count": 2,
   "id": "e87e0298-b799-4b89-9fc1-f23a807d4a94",
   "metadata": {},
   "outputs": [],
   "source": [
    "num_list = [123, 456, 789]\n",
    "digit_sum_list = [sum(int(digit) for digit in str(num)) for num in num_list]"
   ]
  },
  {
   "cell_type": "code",
   "execution_count": 2,
   "id": "ca6e7921-9897-4e4c-ab72-4cae0a01c52c",
   "metadata": {},
   "outputs": [
    {
     "data": {
      "text/plain": [
       "[6, 15, 24]"
      ]
     },
     "execution_count": 2,
     "metadata": {},
     "output_type": "execute_result"
    }
   ],
   "source": [
    "digit_sum_list"
   ]
  },
  {
   "cell_type": "code",
   "execution_count": 7,
   "id": "f9ddefc7-d55a-40e6-83d7-9466116d6e6e",
   "metadata": {},
   "outputs": [
    {
     "name": "stdin",
     "output_type": "stream",
     "text": [
      "Enter your number: 658\n"
     ]
    },
    {
     "name": "stdout",
     "output_type": "stream",
     "text": [
      "this is your prime factors: [2, 7, 47]\n"
     ]
    }
   ],
   "source": [
    "# Write a program to find the prime factors of a given number using a `for` loop and list comprehension.\n",
    "\n",
    "def primr_factor(n): ##in this line i create a simple fuction for prime factorization\n",
    "    factor = [x for x in range(2,n+1) if n%x==0] #In This line i use list comprehension for calculating factors\n",
    "    prime_factor = [] ##create a empty list for store prime factors\n",
    "    for i in factor: #this for loop take every factors one by one \n",
    "        is_prime = True ##this variable is used as a flag variable \n",
    "        for j in range(2,int(i**0.5)+1): ##in this line i take a for for check a number is prime or not this loop is start from 2 to i the power 0.5 + 1\n",
    "            if(i%j==0):  #if i is divided by any number then is_prime variable assign false and break this loop if not then this loop will not execute\n",
    "                is_prime = False\n",
    "                break\n",
    "        if(is_prime): #check is_prime is true or not if true then this i's values is append in prime_factor list\n",
    "            prime_factor.append(i)\n",
    "    return prime_factor ##and then return at last\n",
    "\n",
    "\n",
    "n = int(input(\"Enter your number:\")) ##this line is use to take input from user\n",
    "if(n<=0): ##this line is used this check user entered value us negative or positive\n",
    "    print(\"prime factor of this number is not exist\")\n",
    "else:\n",
    "    print(\"this is your prime factors:\",primr_factor(n))"
   ]
  },
  {
   "cell_type": "code",
   "execution_count": 9,
   "id": "bc29ca68-bcb7-478f-8866-b369c93d7b4a",
   "metadata": {},
   "outputs": [],
   "source": [
    "# Develop a program that extracts unique elements from a list and stores them in a new list using a list\n",
    "# comprehension.\n",
    "\n",
    "li = [1,2,1,2,3] #i take a list as for further work\n",
    "l2 = [i for i in li if li.count(i)==1] #in this line i use list comprehension in this we use for loop for trivers all element of the li the check this element count is equal to 1 if it is true then this is a unique element"
   ]
  },
  {
   "cell_type": "code",
   "execution_count": 11,
   "id": "a4e390ad-0c50-41cb-a186-45225d1923ab",
   "metadata": {},
   "outputs": [
    {
     "name": "stdout",
     "output_type": "stream",
     "text": [
      "Original List: [1, 2, 1, 2, 3]\n",
      "Unique Elements: [3]\n"
     ]
    }
   ],
   "source": [
    "print(\"Original List:\",li)\n",
    "print(\"Unique Elements:\",l2)"
   ]
  },
  {
   "cell_type": "code",
   "execution_count": 1,
   "id": "5eadd789-bc37-42aa-a339-2ade03873e58",
   "metadata": {},
   "outputs": [
    {
     "name": "stdin",
     "output_type": "stream",
     "text": [
      "Enter your limits: 333\n"
     ]
    },
    {
     "name": "stdout",
     "output_type": "stream",
     "text": [
      "this is your palindrom list [0, 1, 2, 3, 4, 5, 6, 7, 8, 9, 11, 22, 33, 44, 55, 66, 77, 88, 99, 101, 111, 121, 131, 141, 151, 161, 171, 181, 191, 202, 212, 222, 232, 242, 252, 262, 272, 282, 292, 303, 313, 323, 333]\n"
     ]
    }
   ],
   "source": [
    "##Create a program that generates a list of all palindromic numbers up to a specified limit using a list\n",
    "# comprehension.\n",
    "# Function to check if a number is a palindrome\n",
    "def ispalindrom(k):\n",
    "    if(str(k) == str(k)[::-1]):\n",
    "        return True\n",
    "    else:\n",
    "        return False\n",
    "# Input the limit\n",
    "limit = int(input(\"Enter your limits:\"))\n",
    "\n",
    "# Use list comprehension to generate palindromic numbers\n",
    "l1 = [i for i in range(limit+1) if(ispalindrom(i))]\n",
    "\n",
    "#print palindrome list\n",
    "print(\"this is your palindrom list\",l1)"
   ]
  },
  {
   "cell_type": "code",
   "execution_count": 3,
   "id": "f65a6470-59c0-4cb1-955c-46f2a7cc5108",
   "metadata": {},
   "outputs": [
    {
     "name": "stdout",
     "output_type": "stream",
     "text": [
      "[1, 2, 3, 4, 5, 6, 7, 8]\n"
     ]
    }
   ],
   "source": [
    "#25. Write a program to flatten a nested list using list comprehension.\n",
    "\n",
    "l1 = [[1,2],[3,4,5],[6,7,8]]\n",
    "l2 = [i for j in l1 for i in j]\n",
    "print(l2)"
   ]
  },
  {
   "cell_type": "code",
   "execution_count": 14,
   "id": "17d233c3-e2d7-4095-b91b-95b624c3f65b",
   "metadata": {},
   "outputs": [
    {
     "name": "stdout",
     "output_type": "stream",
     "text": [
      "30\n",
      "25\n"
     ]
    }
   ],
   "source": [
    "##26. Develop a program that computes the sum of even and odd numbers in a list separately using list\n",
    "# comprehension.\n",
    "def sum(n): ##function for sum\n",
    "    sum = 0\n",
    "    for i in n :\n",
    "        sum +=i\n",
    "    return sum\n",
    "\n",
    "l1 = [1,2,3,4,5,6,7,8,9,10] ##list for operation\n",
    "even = [i for i in l1 if(i%2==0)] ##this line is used  for extract even number \n",
    "odd = [i for i in l1 if(i%2!=0)] ####this line is used  for extract even number \n",
    "print(sum(even)) ##in this line we call sum function for addion of all element of even list\n",
    "print(sum(odd)) ##in this line we call sum function for addion of all element of Odd list\n",
    "\n",
    "\n"
   ]
  },
  {
   "cell_type": "code",
   "execution_count": 16,
   "id": "39f20b4b-b340-40e4-b570-e979f6355a14",
   "metadata": {},
   "outputs": [
    {
     "data": {
      "text/plain": [
       "[1, 9, 25, 49, 81]"
      ]
     },
     "execution_count": 16,
     "metadata": {},
     "output_type": "execute_result"
    }
   ],
   "source": [
    "# Create a program that generates a list of squares of odd numbers between 1 and 10 using list\n",
    "# comprehension.\n",
    "odd_sqr = [i**2 for i in range(1,11) if(i%2!=0)] ##this line is used  for Generate odd number square number \n",
    "odd_sqr"
   ]
  },
  {
   "cell_type": "code",
   "execution_count": 21,
   "id": "ddc1634c-47bc-466d-9fd9-c4d0582e5dcc",
   "metadata": {},
   "outputs": [
    {
     "name": "stdout",
     "output_type": "stream",
     "text": [
      "it is your combined dictionary {'name': 'rahul', 'age': 21, 'address': 'meerut'}\n"
     ]
    }
   ],
   "source": [
    "# Input two lists with keys and values\n",
    "keys = [\"name\",\"age\",\"address\"]\n",
    "values = [\"rahul\",21,\"meerut\"]\n",
    "\n",
    "# Use list comprehension to create a dictionary\n",
    "dict = {keys[i]:values[i] for i in range (min(len(keys),len(values)))}\n",
    "# Print the resulting dictionary\n",
    "print(\"it is your combined dictionary\",dict)"
   ]
  },
  {
   "cell_type": "code",
   "execution_count": 23,
   "id": "22ec66a5-c87c-48f9-ab67-95572abfaa09",
   "metadata": {},
   "outputs": [
    {
     "name": "stdin",
     "output_type": "stream",
     "text": [
      "Enter Your string: radhe radhe pyara\n"
     ]
    },
    {
     "name": "stdout",
     "output_type": "stream",
     "text": [
      "Your extracted vowel string: ['a', 'e', 'a', 'e', 'a', 'a']\n"
     ]
    }
   ],
   "source": [
    "# 29. Develop a program that extracts the vowels from a string and stores them in a list using list comprehension.\n",
    "vowels = [\"a\",\"e\",\"i\",\"o\",\"u\",\"A\",\"E\",\"I\",\"O\",\"U\"] ##a list is store vowels [\"a\",\"e\",\"i\",\"o\",\"u\",\"A\",\"E\",\"I\",\"O\",\"U\"] \n",
    "n = input(\"Enter Your string:\") ##take string as an input from user \n",
    "l1 = [i for i in n if i in vowels] #list comprehension used for extract vowels from string\n",
    "print(\"Your extracted vowel string:\",l1) ##this line is used for print list of vowels extracted drom the list"
   ]
  },
  {
   "cell_type": "code",
   "execution_count": 40,
   "id": "101e096d-a711-4258-b898-0dbb89196df9",
   "metadata": {},
   "outputs": [
    {
     "data": {
      "text/plain": [
       "['123', '45', '789', '456']"
      ]
     },
     "execution_count": 40,
     "metadata": {},
     "output_type": "execute_result"
    }
   ],
   "source": [
    "#Create a program that removes all non-numeric characters from a list of strings using list comprehension.\n",
    "\n",
    "string_list = [\"abc123\", \"45def\", \"789\", \"xyz456\"]\n",
    "li = [\"\".join(i for i in s if i.isdigit()) for s in string_list]\n",
    "li"
   ]
  },
  {
   "cell_type": "markdown",
   "id": "5cc5566d-66d1-4bda-8607-4865f73942a4",
   "metadata": {},
   "source": [
    "Challenge Level:"
   ]
  },
  {
   "cell_type": "code",
   "execution_count": 3,
   "id": "9aa19db4-163e-45a1-9657-09f3e37d1ca5",
   "metadata": {},
   "outputs": [
    {
     "name": "stdin",
     "output_type": "stream",
     "text": [
      "Enter your number: 25\n"
     ]
    },
    {
     "name": "stdout",
     "output_type": "stream",
     "text": [
      "your prime number:\n",
      "[2, 3, 5, 7, 11, 13, 17, 19, 23]\n"
     ]
    }
   ],
   "source": [
    "# Write a program to generate a list of prime numbers using the Sieve of Eratosthenes algorithm and list\n",
    "# comprehension.\n",
    "n = int(input(\"Enter your number:\")) #take input from user\n",
    "prime= [i for i in range(n+1)] #using list compresion for generate a list for 0 to n+1\n",
    "prime[0]=0 #assign zero to list of prime at index of 0 and 1\n",
    "prime[1]=0\n",
    "p=2 #assign 2 in p\n",
    "while(p**2<=n): #this while loop is true if square of p is less than n\n",
    "    if(p!=0): #this if is execute if p!=0\n",
    "        for i in range(p*2,n+1,p): #this for loop Is start from p*2 to n+1 at skips of p\n",
    "            prime[i]=0 #this loop is execute prime[i]=0\n",
    "    p+=1 #at last increment by one in p\n",
    "print(\"your prime number:\") \n",
    "l1 = [i for i in range(len(prime)) if(prime[i]!=0)] #this line is use to Generate prime number\n",
    "print(l1)\n",
    "        \n",
    "\n"
   ]
  },
  {
   "cell_type": "code",
   "execution_count": 9,
   "id": "7b64f5d2-9ba4-4a86-91da-502374e3ba43",
   "metadata": {},
   "outputs": [
    {
     "name": "stdin",
     "output_type": "stream",
     "text": [
      "Enter your limits: 20\n"
     ]
    },
    {
     "data": {
      "text/plain": [
       "[[3, 4, 5], [5, 12, 13], [6, 8, 10], [8, 15, 17], [9, 12, 15]]"
      ]
     },
     "execution_count": 9,
     "metadata": {},
     "output_type": "execute_result"
    }
   ],
   "source": [
    "# Function to check if three numbers form a Pythagorean triplet\n",
    "def Pythagorean(a,b,c):\n",
    "    if((a**2)+(b**2)) == c**2:\n",
    "        return True\n",
    "    else:\n",
    "        False\n",
    "#take the limit for generating Pythagorean triplets      \n",
    "limit = int(input(\"Enter your limits:\"))\n",
    "\n",
    "# Generate a list of Pythagorean triplets up to a specified limit\n",
    "l1 = [[a,b,c] for a in range(1,limit) for b in range(a,limit) for c in range(b,limit) if(Pythagorean(a,b,c))]\n",
    "\n",
    "l1"
   ]
  },
  {
   "cell_type": "code",
   "execution_count": 8,
   "id": "51f43fef-6d70-4dba-b81e-abda25a69a53",
   "metadata": {},
   "outputs": [
    {
     "name": "stdout",
     "output_type": "stream",
     "text": [
      "[(3, 4, 5), (5, 12, 13), (6, 8, 10), (8, 15, 17), (9, 12, 15)]\n"
     ]
    }
   ],
   "source": [
    "# Function to check if three numbers form a Pythagorean triplet\n",
    "def is_pythagorean_triplet(a, b, c):\n",
    "    return a**2 + b**2 == c**2\n",
    "\n",
    "# Generate a list of Pythagorean triplets up to a specified limit\n",
    "def generate_pythagorean_triplets(limit):\n",
    "    triplets = [(a, b, c) for a in range(1, limit) for b in range(a, limit) for c in range(b, limit) if is_pythagorean_triplet(a, b, c)]\n",
    "    return triplets\n",
    "\n",
    "# Specify the limit for generating Pythagorean triplets\n",
    "limit = 20\n",
    "\n",
    "# Generate and print the list of Pythagorean triplets\n",
    "triplets = generate_pythagorean_triplets(limit)\n",
    "print(triplets)"
   ]
  },
  {
   "cell_type": "code",
   "execution_count": null,
   "id": "6c7d8a9f-8a03-4525-9a90-5f4617336bfa",
   "metadata": {},
   "outputs": [],
   "source": [
    "# 35. Create a program that generates Pascal's triangle up to a specified number of rows using list\n",
    "# comprehension."
   ]
  },
  {
   "cell_type": "code",
   "execution_count": 7,
   "id": "b7632c44-71e9-4813-90ea-6f6033e2156c",
   "metadata": {},
   "outputs": [
    {
     "name": "stdout",
     "output_type": "stream",
     "text": [
      "factorial of 1 is 1 and the sum of its digits is 1\n",
      "factorial of 2 is 2 and the sum of its digits is 2\n",
      "factorial of 3 is 6 and the sum of its digits is 6\n",
      "factorial of 4 is 24 and the sum of its digits is 6\n",
      "factorial of 5 is 120 and the sum of its digits is 3\n"
     ]
    }
   ],
   "source": [
    "#36. Develop a program that calculates the sum of the digits of a factorial of numbers from 1 to 5 using list\n",
    "# comprehension.\n",
    "def factorial(n): ##this function is used to calculate factorial of a number using recurssion\n",
    "    if n==0 or n==1:\n",
    "        return 1\n",
    "    else:\n",
    "        return n * factorial(n-1)\n",
    "#calculate factorial of numbers from 1 to 5 and there sum of its digits\n",
    "result = [(n , factorial(n), sum(map(int,str(factorial(n)))))  for n in range(1,6)]\n",
    "\n",
    "# input1 = int(input(\"Enter a limit at this limit you want to calculate factorial and its digit sum:\"))\n",
    "\n",
    "for n,fact,digit_sum in result: #this loop is used to display the result , this loop execute for n , factorial and sum of digits\n",
    "    print(f\"factorial of {n} is {fact} and the sum of its digits is {digit_sum}\")\n",
    "\n",
    "\n",
    "\n",
    "\n"
   ]
  },
  {
   "cell_type": "code",
   "execution_count": 23,
   "id": "976ce5b1-1831-4b13-bcfa-220407294803",
   "metadata": {},
   "outputs": [
    {
     "name": "stdout",
     "output_type": "stream",
     "text": [
      "['exclamation,']\n"
     ]
    }
   ],
   "source": [
    "# 37. Write a program that finds the longest word in a sentence using list comprehension.\n",
    "# # Input: a sample sentence\n",
    "n = '''a set of words that is complete in itself, typically containing a subject and predicate, conveying a statement, question, exclamation, or command, and consisting of a main clause and sometimes one or more subordinate clauses.'''\n",
    "\n",
    "word = n.split(\" \") ### Split the sentence into word\n",
    "longest = [i for i in word if len(i)==max(map(len ,word))] ### Use list comprehension to find the longest word(s)\n",
    "print(longest) #print longest word\n"
   ]
  },
  {
   "cell_type": "code",
   "execution_count": null,
   "id": "4b3167a0-9faf-47c9-82f2-743e0ef5a03f",
   "metadata": {},
   "outputs": [
    {
     "name": "stdout",
     "output_type": "stream",
     "text": [
      "This is list of string which is greater then 3 ['containing', 'predicate,', 'question,', 'exclamation,', 'sometimes', 'subordinate']\n"
     ]
    }
   ],
   "source": [
    "#Create a program that filters a list of strings to include only those with more than three vowels using list\n",
    "vowels = [\"a\",\"e\",\"i\",\"o\",\"u\",\"A\",\"E\",\"I\",\"O\",\"U\"]\n",
    "n = '''a set of words that is complete in itself, typically containing a subject and predicate, conveying a statement, question, exclamation, or command, and consisting of a main clause and sometimes one or more subordinate clauses.'''\n",
    "word = n.split(\" \") ### Split the sentence into word\n",
    "def vowel_checker(i):\n",
    "    p=[k for k in i if k in vowels]\n",
    "\n",
    "    return len(p)>3\n",
    "    \n",
    "\n",
    "st = [i for i in word if(vowel_checker(i))]\n",
    "print(\"This is list of string which is greater then 3\",st)\n",
    "    \n",
    "            \n",
    "    "
   ]
  },
  {
   "cell_type": "code",
   "execution_count": null,
   "id": "5cdce54e-ee8e-4978-be1c-4b1c69123ea9",
   "metadata": {},
   "outputs": [],
   "source": [
    "#Create a program that filters a list of strings to include only those with more than three vowels using list\n",
    "vowels = [\"a\",\"e\",\"i\",\"o\",\"u\",\"A\",\"E\",\"I\",\"O\",\"U\"]\n",
    "# n = '''a set of words that is complete in itself, typically containing a subject and predicate, conveying a statement, question, exclamation, or command, and consisting of a main clause and sometimes one or more subordinate clauses.'''\n",
    "rahul=[\"apple\", \"banana\", \"cherry\", \"grape\", \"blueberry\", \"orange\", \"strawberry\", \"kiwi\",\"aeiou\"]\n",
    "\n",
    "# word = n.split(\" \") ### Split the sentence into word\n",
    "def vowel_checker(i):\n",
    "    p=[k for k in i if k in vowels]\n",
    "\n",
    "    return len(p)>3\n",
    "    \n",
    "\n",
    "st = [i for i in rahul if(vowel_checker(i))]\n",
    "print(\"This is list of string which is greater then 3\",st)\n",
    "    \n",
    "            \n",
    "##I have dought in this question"
   ]
  },
  {
   "cell_type": "code",
   "execution_count": 86,
   "id": "381377b7-45ae-4683-ac9e-56d33e3a8575",
   "metadata": {},
   "outputs": [
    {
     "name": "stdout",
     "output_type": "stream",
     "text": [
      "[1, 2, 3, 4, 5, 6, 7, 8, 9, 1, 2, 3, 4, 5, 6, 7, 8, 9, 10, 2, 3, 4, 5, 6, 7, 8, 9, 10, 11, 3, 4, 5, 6, 7, 8, 9, 10, 11, 12, 4, 5, 6, 7, 8, 9, 10, 11, 12, 13, 5, 6, 7, 8, 9, 10, 11, 12, 13, 14, 6, 7, 8, 9, 10, 11, 12, 13, 14, 15, 7, 8, 9, 10, 11, 12, 13, 14, 15, 16, 8, 9, 10, 11, 12, 13, 14, 15, 16, 17, 9, 10, 11, 12, 13, 14, 15, 16, 17, 18, 1, 2, 3, 4, 5, 6, 7, 8, 9, 10, 2, 3, 4, 5, 6, 7, 8, 9, 10, 11, 3, 4, 5, 6, 7, 8, 9, 10, 11, 12, 4, 5, 6, 7, 8, 9, 10, 11, 12, 13, 5, 6, 7, 8, 9, 10, 11, 12, 13, 14, 6, 7, 8, 9, 10, 11, 12, 13, 14, 15, 7, 8, 9, 10, 11, 12, 13, 14, 15, 16, 8, 9, 10, 11, 12, 13, 14, 15, 16, 17, 9, 10, 11, 12, 13, 14, 15, 16, 17, 18, 10, 11, 12, 13, 14, 15, 16, 17, 18, 19, 2, 3, 4, 5, 6, 7, 8, 9, 10, 11, 3, 4, 5, 6, 7, 8, 9, 10, 11, 12, 4, 5, 6, 7, 8, 9, 10, 11, 12, 13, 5, 6, 7, 8, 9, 10, 11, 12, 13, 14, 6, 7, 8, 9, 10, 11, 12, 13, 14, 15, 7, 8, 9, 10, 11, 12, 13, 14, 15, 16, 8, 9, 10, 11, 12, 13, 14, 15, 16, 17, 9, 10, 11, 12, 13, 14, 15, 16, 17, 18, 10, 11, 12, 13, 14, 15, 16, 17, 18, 19, 11, 12, 13, 14, 15, 16, 17, 18, 19, 20, 3, 4, 5, 6, 7, 8, 9, 10, 11, 12, 4, 5, 6, 7, 8, 9, 10, 11, 12, 13, 5, 6, 7, 8, 9, 10, 11, 12, 13, 14, 6, 7, 8, 9, 10, 11, 12, 13, 14, 15, 7, 8, 9, 10, 11, 12, 13, 14, 15, 16, 8, 9, 10, 11, 12, 13, 14, 15, 16, 17, 9, 10, 11, 12, 13, 14, 15, 16, 17, 18, 10, 11, 12, 13, 14, 15, 16, 17, 18, 19, 11, 12, 13, 14, 15, 16, 17, 18, 19, 20, 12, 13, 14, 15, 16, 17, 18, 19, 20, 21, 4, 5, 6, 7, 8, 9, 10, 11, 12, 13, 5, 6, 7, 8, 9, 10, 11, 12, 13, 14, 6, 7, 8, 9, 10, 11, 12, 13, 14, 15, 7, 8, 9, 10, 11, 12, 13, 14, 15, 16, 8, 9, 10, 11, 12, 13, 14, 15, 16, 17, 9, 10, 11, 12, 13, 14, 15, 16, 17, 18, 10, 11, 12, 13, 14, 15, 16, 17, 18, 19, 11, 12, 13, 14, 15, 16, 17, 18, 19, 20, 12, 13, 14, 15, 16, 17, 18, 19, 20, 21, 13, 14, 15, 16, 17, 18, 19, 20, 21, 22, 5, 6, 7, 8, 9, 10, 11, 12, 13, 14, 6, 7, 8, 9, 10, 11, 12, 13, 14, 15, 7, 8, 9, 10, 11, 12, 13, 14, 15, 16, 8, 9, 10, 11, 12, 13, 14, 15, 16, 17, 9, 10, 11, 12, 13, 14, 15, 16, 17, 18, 10, 11, 12, 13, 14, 15, 16, 17, 18, 19, 11, 12, 13, 14, 15, 16, 17, 18, 19, 20, 12, 13, 14, 15, 16, 17, 18, 19, 20, 21, 13, 14, 15, 16, 17, 18, 19, 20, 21, 22, 14, 15, 16, 17, 18, 19, 20, 21, 22, 23, 6, 7, 8, 9, 10, 11, 12, 13, 14, 15, 7, 8, 9, 10, 11, 12, 13, 14, 15, 16, 8, 9, 10, 11, 12, 13, 14, 15, 16, 17, 9, 10, 11, 12, 13, 14, 15, 16, 17, 18, 10, 11, 12, 13, 14, 15, 16, 17, 18, 19, 11, 12, 13, 14, 15, 16, 17, 18, 19, 20, 12, 13, 14, 15, 16, 17, 18, 19, 20, 21, 13, 14, 15, 16, 17, 18, 19, 20, 21, 22, 14, 15, 16, 17, 18, 19, 20, 21, 22, 23, 15, 16, 17, 18, 19, 20, 21, 22, 23, 24, 7, 8, 9, 10, 11, 12, 13, 14, 15, 16, 8, 9, 10, 11, 12, 13, 14, 15, 16, 17, 9, 10, 11, 12, 13, 14, 15, 16, 17, 18, 10, 11, 12, 13, 14, 15, 16, 17, 18, 19, 11, 12, 13, 14, 15, 16, 17, 18, 19, 20, 12, 13, 14, 15, 16, 17, 18, 19, 20, 21, 13, 14, 15, 16, 17, 18, 19, 20, 21, 22, 14, 15, 16, 17, 18, 19, 20, 21, 22, 23, 15, 16, 17, 18, 19, 20, 21, 22, 23, 24, 16, 17, 18, 19, 20, 21, 22, 23, 24, 25, 8, 9, 10, 11, 12, 13, 14, 15, 16, 17, 9, 10, 11, 12, 13, 14, 15, 16, 17, 18, 10, 11, 12, 13, 14, 15, 16, 17, 18, 19, 11, 12, 13, 14, 15, 16, 17, 18, 19, 20, 12, 13, 14, 15, 16, 17, 18, 19, 20, 21, 13, 14, 15, 16, 17, 18, 19, 20, 21, 22, 14, 15, 16, 17, 18, 19, 20, 21, 22, 23, 15, 16, 17, 18, 19, 20, 21, 22, 23, 24, 16, 17, 18, 19, 20, 21, 22, 23, 24, 25, 17, 18, 19, 20, 21, 22, 23, 24, 25, 26, 9, 10, 11, 12, 13, 14, 15, 16, 17, 18, 10, 11, 12, 13, 14, 15, 16, 17, 18, 19, 11, 12, 13, 14, 15, 16, 17, 18, 19, 20, 12, 13, 14, 15, 16, 17, 18, 19, 20, 21, 13, 14, 15, 16, 17, 18, 19, 20, 21, 22, 14, 15, 16, 17, 18, 19, 20, 21, 22, 23, 15, 16, 17, 18, 19, 20, 21, 22, 23, 24, 16, 17, 18, 19, 20, 21, 22, 23, 24, 25, 17, 18, 19, 20, 21, 22, 23, 24, 25, 26, 18, 19, 20, 21, 22, 23, 24, 25, 26, 27, 1] "
     ]
    }
   ],
   "source": [
    "#39. Develop a program that calculates the sum of the digits of numbers from 1 to 1000 using list\n",
    "# comprehension.\n",
    "#in this list comprehension for loop for j is generate number from 1 to 1000 and it further send for loop for i which is used to sum digits of this number\n",
    "sum_of_digits = [sum(int(i) for i in str(j)) for j in range(1,1001)]\n",
    "print(sum_of_digits,end=\" \") #\n",
    "# sum(int(digit) for digit in str(num)) for num in num_list]\n"
   ]
  },
  {
   "cell_type": "code",
   "execution_count": 3,
   "id": "6b7d860e-056c-47db-9b68-3db53a330098",
   "metadata": {},
   "outputs": [
    {
     "data": {
      "text/plain": [
       "dict_values(['rah', ['BG', 'ra'], 909898])"
      ]
     },
     "execution_count": 3,
     "metadata": {},
     "output_type": "execute_result"
    }
   ],
   "source": [
    "\n",
    "d = {\"name\":\"rah\",\"class\":[\"BG\",\"ra\"],\"mo no\":909898}\n",
    "d.values()"
   ]
  },
  {
   "cell_type": "code",
   "execution_count": 6,
   "id": "bfa58ea3-d33a-44de-b705-465b368a8580",
   "metadata": {},
   "outputs": [
    {
     "name": "stdout",
     "output_type": "stream",
     "text": [
      "['BG', 'ra']\n"
     ]
    }
   ],
   "source": [
    "for i in d.values():\n",
    "    if type(i)==list:\n",
    "        print(i)"
   ]
  },
  {
   "cell_type": "code",
   "execution_count": null,
   "id": "65f7400a-c96f-4db1-8204-4f4aa3f18290",
   "metadata": {},
   "outputs": [],
   "source": []
  },
  {
   "cell_type": "code",
   "execution_count": null,
   "id": "5a55d805-420f-4a1e-a9b1-cfd3889f76d0",
   "metadata": {},
   "outputs": [],
   "source": []
  },
  {
   "cell_type": "code",
   "execution_count": null,
   "id": "eee1a392-2682-4793-8565-374251b7182f",
   "metadata": {},
   "outputs": [],
   "source": []
  },
  {
   "cell_type": "code",
   "execution_count": null,
   "id": "b59f0941-3a41-4c3f-b80c-690354709d14",
   "metadata": {},
   "outputs": [],
   "source": []
  },
  {
   "cell_type": "code",
   "execution_count": null,
   "id": "3ee0348d-ecc3-4b10-bf33-65d4c053e7c2",
   "metadata": {},
   "outputs": [],
   "source": []
  },
  {
   "cell_type": "code",
   "execution_count": null,
   "id": "ce7def66-81a8-47fe-aa6b-e1b3b752c387",
   "metadata": {},
   "outputs": [],
   "source": []
  },
  {
   "cell_type": "code",
   "execution_count": null,
   "id": "6fe36fbf-5ce6-48b3-9a01-09682e3e6c84",
   "metadata": {},
   "outputs": [],
   "source": []
  },
  {
   "cell_type": "code",
   "execution_count": null,
   "id": "5a81c113-51b0-4899-b6aa-9cc3708e124f",
   "metadata": {},
   "outputs": [],
   "source": []
  },
  {
   "cell_type": "code",
   "execution_count": null,
   "id": "8d73ce13-10ff-4713-89be-2dc5f2eee2c7",
   "metadata": {},
   "outputs": [],
   "source": []
  }
 ],
 "metadata": {
  "kernelspec": {
   "display_name": "Python 3 (ipykernel)",
   "language": "python",
   "name": "python3"
  },
  "language_info": {
   "codemirror_mode": {
    "name": "ipython",
    "version": 3
   },
   "file_extension": ".py",
   "mimetype": "text/x-python",
   "name": "python",
   "nbconvert_exporter": "python",
   "pygments_lexer": "ipython3",
   "version": "3.10.8"
  }
 },
 "nbformat": 4,
 "nbformat_minor": 5
}
